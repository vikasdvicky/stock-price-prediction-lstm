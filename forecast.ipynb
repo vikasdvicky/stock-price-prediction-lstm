{
 "cells": [
  {
   "cell_type": "code",
   "execution_count": 1,
   "metadata": {},
   "outputs": [
    {
     "name": "stderr",
     "output_type": "stream",
     "text": [
      "C:\\Users\\VIKAS\\Anaconda3\\lib\\site-packages\\h5py\\__init__.py:36: FutureWarning: Conversion of the second argument of issubdtype from `float` to `np.floating` is deprecated. In future, it will be treated as `np.float64 == np.dtype(float).type`.\n",
      "  from ._conv import register_converters as _register_converters\n",
      "Using TensorFlow backend.\n"
     ]
    }
   ],
   "source": [
    "from keras.models import Sequential\n",
    "from keras.layers import Dense\n",
    "from keras.layers import LSTM\n",
    "from sklearn.externals import joblib\n",
    "import numpy as np\n",
    "import pandas as pd\n",
    "from dateparser import parse\n",
    "import datetime"
   ]
  },
  {
   "cell_type": "code",
   "execution_count": 2,
   "metadata": {},
   "outputs": [],
   "source": [
    "def get_model(weights):  # function to load LSTM model and scaling model\n",
    "    model = Sequential()\n",
    "    model.add(LSTM(4, input_shape=(1, 1)))\n",
    "    model.add(Dense(1))\n",
    "    model.compile(loss='mean_squared_error', optimizer='adam')\n",
    "    model.load_weights('weights/'+weights+'.hdf5')\n",
    "    scale = joblib.load('scale_models/scale_'+weights+'.pkl')\n",
    "    return model, scale"
   ]
  },
  {
   "cell_type": "code",
   "execution_count": 19,
   "metadata": {},
   "outputs": [],
   "source": [
    "def get_forecast(seed, data='msft'): #seed = date string or previous day closing price, data = 'google' or 'msft' which model to use\n",
    "    model, scale = get_model(data) #load model based on data  \n",
    "    if type(seed) == float or type(seed) == int:\n",
    "        x = scale.transform(float(seed))\n",
    "        pred = model.predict(np.expand_dims(x, axis=0))\n",
    "        return scale.inverse_transform(pred)\n",
    "    elif type(seed) == str:\n",
    "        date = parse(seed)\n",
    "        today = parse('30-Jun-17') if data=='msft' else parse('2018-06-20') \n",
    "        if date > today:\n",
    "            steps = (date - today).days\n",
    "            seed = 929.68 if data == 'msft' else 101.87 #last closing price of respective dataset to use as seed for predicting closing price of future dates\n",
    "            seed = scale.transform(seed)\n",
    "            for i in range(1,steps+1):\n",
    "                seed = np.array(seed,ndmin=3)\n",
    "                seed = model.predict(seed).tolist()[0][0]\n",
    "            return scale.inverse_transform(seed)\n",
    "        else:\n",
    "            print (\"Invalid Date\")\n",
    "    else:\n",
    "        print (\"Please provide input parameters correctly\")"
   ]
  },
  {
   "cell_type": "code",
   "execution_count": 20,
   "metadata": {},
   "outputs": [],
   "source": [
    "pred = get_forecast(101.14,'msft')"
   ]
  },
  {
   "cell_type": "code",
   "execution_count": 21,
   "metadata": {},
   "outputs": [
    {
     "name": "stdout",
     "output_type": "stream",
     "text": [
      "Next closing value is [[93.8072]]\n"
     ]
    }
   ],
   "source": [
    "print (\"Next closing value is\",pred)"
   ]
  },
  {
   "cell_type": "code",
   "execution_count": 22,
   "metadata": {},
   "outputs": [],
   "source": [
    "pred = get_forecast('23 Jun 18','msft') # make sure date should not be less than current date"
   ]
  },
  {
   "cell_type": "code",
   "execution_count": 23,
   "metadata": {},
   "outputs": [
    {
     "name": "stdout",
     "output_type": "stream",
     "text": [
      "Next closing value is [[60.08787238]]\n"
     ]
    }
   ],
   "source": [
    "print (\"Next closing value is\",pred)"
   ]
  },
  {
   "cell_type": "code",
   "execution_count": null,
   "metadata": {},
   "outputs": [],
   "source": []
  }
 ],
 "metadata": {
  "kernelspec": {
   "display_name": "Python 3",
   "language": "python",
   "name": "python3"
  },
  "language_info": {
   "codemirror_mode": {
    "name": "ipython",
    "version": 3
   },
   "file_extension": ".py",
   "mimetype": "text/x-python",
   "name": "python",
   "nbconvert_exporter": "python",
   "pygments_lexer": "ipython3",
   "version": "3.6.5"
  }
 },
 "nbformat": 4,
 "nbformat_minor": 2
}
